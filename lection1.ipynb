{
 "cells": [
  {
   "cell_type": "markdown",
   "id": "91fa8ff1",
   "metadata": {},
   "source": [
    "# Задача № 1\n",
    "### 1.1. Соедините 2 словаря"
   ]
  },
  {
   "cell_type": "code",
   "execution_count": 4,
   "id": "4a6b233c",
   "metadata": {},
   "outputs": [],
   "source": [
    "dict1 = {'One': 1, 'Two': 2, 'Three': 3}\n",
    "dict2 = {'Four': 4, 'Five': 5, 'Six': 6}"
   ]
  },
  {
   "cell_type": "code",
   "execution_count": 6,
   "id": "3537698a",
   "metadata": {},
   "outputs": [],
   "source": [
    "dict1.update(dict2)"
   ]
  },
  {
   "cell_type": "code",
   "execution_count": 7,
   "id": "e830d060",
   "metadata": {},
   "outputs": [
    {
     "data": {
      "text/plain": [
       "{'One': 1, 'Two': 2, 'Three': 3, 'Four': 4, 'Five': 5, 'Six': 6}"
      ]
     },
     "execution_count": 7,
     "metadata": {},
     "output_type": "execute_result"
    }
   ],
   "source": [
    "dict1"
   ]
  },
  {
   "cell_type": "markdown",
   "id": "14fc965c",
   "metadata": {},
   "source": [
    "### 1.2. Напишите функцию, которая на вход принимает два словаря и возвращает один объединенный словарь Используйте аннотирование типов"
   ]
  },
  {
   "cell_type": "code",
   "execution_count": 12,
   "id": "1b21e902",
   "metadata": {},
   "outputs": [],
   "source": [
    "def merge(dict1: dict, dict2: dict) -> dict:\n",
    "    dict1.update(dict2)\n",
    "    return dict1"
   ]
  },
  {
   "cell_type": "code",
   "execution_count": 17,
   "id": "d240c218",
   "metadata": {},
   "outputs": [
    {
     "name": "stdout",
     "output_type": "stream",
     "text": [
      "{'One': 1, 'Two': 2, 'Three': 3, 'Four': 4, 'Five': 5, 'Six': 6}\n"
     ]
    }
   ],
   "source": [
    "print(merge(dict1, dict2))"
   ]
  },
  {
   "cell_type": "markdown",
   "id": "4f79b40b",
   "metadata": {},
   "source": [
    "## Задание 2"
   ]
  },
  {
   "cell_type": "markdown",
   "id": "2ad4b0f3",
   "metadata": {},
   "source": [
    "### Напишите функцию, которая из двух списков, делает один словарь, где элементы из первого списка - ключи, а элементы из второго списка - значения\n"
   ]
  },
  {
   "cell_type": "markdown",
   "id": "823c18c1",
   "metadata": {},
   "source": [
    "#### 2.1 Используя dict "
   ]
  },
  {
   "cell_type": "code",
   "execution_count": 30,
   "id": "19e63cbf",
   "metadata": {},
   "outputs": [],
   "source": [
    "keys = ['One', 'Two', 'Three']\n",
    "values = [1, 2, 3, 4]"
   ]
  },
  {
   "cell_type": "code",
   "execution_count": 20,
   "id": "e42fe805",
   "metadata": {},
   "outputs": [],
   "source": [
    "def get_dict(keys: list, values: list) -> dict:\n",
    "    if len(keys) != len(values): \n",
    "        return None\n",
    "    res = dict()\n",
    "    for i in range(len(keys)):\n",
    "        res[keys[i]] = values[i] \n",
    "    return "
   ]
  },
  {
   "cell_type": "code",
   "execution_count": 23,
   "id": "bd6172c4",
   "metadata": {},
   "outputs": [
    {
     "name": "stdout",
     "output_type": "stream",
     "text": [
      "{'One': 1, 'Two': 2, 'Three': 3}\n"
     ]
    }
   ],
   "source": [
    "print(get_dict(keys, values))"
   ]
  },
  {
   "cell_type": "markdown",
   "id": "c7557c62",
   "metadata": {},
   "source": [
    "#### 2.2. Используя dict comprehensions"
   ]
  },
  {
   "cell_type": "code",
   "execution_count": 27,
   "id": "bf5158e8",
   "metadata": {},
   "outputs": [],
   "source": [
    "def get_dict(keys: list, values: list) -> dict:\n",
    "    if len(keys) != len(values): \n",
    "        return None\n",
    "    return {keys[i]: values[i] for i in range(len(keys))}\n"
   ]
  },
  {
   "cell_type": "code",
   "execution_count": 31,
   "id": "a248e9e3",
   "metadata": {},
   "outputs": [
    {
     "name": "stdout",
     "output_type": "stream",
     "text": [
      "None\n"
     ]
    }
   ],
   "source": [
    "print(get_dict(keys, values))"
   ]
  },
  {
   "cell_type": "markdown",
   "id": "7c016f17",
   "metadata": {},
   "source": [
    "#### 2.3. Zip"
   ]
  },
  {
   "cell_type": "code",
   "execution_count": 32,
   "id": "5bf7fe1b",
   "metadata": {},
   "outputs": [
    {
     "data": {
      "text/plain": [
       "<zip at 0x2bfcf6fbd80>"
      ]
     },
     "execution_count": 32,
     "metadata": {},
     "output_type": "execute_result"
    }
   ],
   "source": [
    "zip(keys, values)"
   ]
  },
  {
   "cell_type": "code",
   "execution_count": 34,
   "id": "a4454855",
   "metadata": {},
   "outputs": [
    {
     "data": {
      "text/plain": [
       "{'One': 1, 'Two': 2, 'Three': 3}"
      ]
     },
     "execution_count": 34,
     "metadata": {},
     "output_type": "execute_result"
    }
   ],
   "source": [
    "dict(zip(keys, values))"
   ]
  },
  {
   "cell_type": "markdown",
   "id": "1dba502e",
   "metadata": {},
   "source": [
    "### Задача 3"
   ]
  },
  {
   "cell_type": "markdown",
   "id": "8aed3772",
   "metadata": {},
   "source": [
    "### 3.1."
   ]
  },
  {
   "cell_type": "code",
   "execution_count": 38,
   "id": "5613f291",
   "metadata": {},
   "outputs": [],
   "source": [
    "client_dict = {\n",
    "\t\"name\": \"John\",\n",
    "\t\"age\": 25,\n",
    "\t\"salary\": 5000,\n",
    "\t\"city\": \"Moscow\"\n",
    "}"
   ]
  },
  {
   "cell_type": "code",
   "execution_count": 40,
   "id": "41275c92",
   "metadata": {},
   "outputs": [
    {
     "data": {
      "text/plain": [
       "{'city': 'Moscow'}"
      ]
     },
     "execution_count": 40,
     "metadata": {},
     "output_type": "execute_result"
    }
   ],
   "source": [
    "def get_key(dict1: dict, keys: list = [\"name\", \"age\"]) -> dict:\n",
    "    res = dict()\n",
    "    for i in keys:\n",
    "        if i in dict1.keys():\n",
    "            res[i] = dict1[i]\n",
    "    return res\n",
    "\n",
    "get_key(client_dict, [\"city\"])\n"
   ]
  },
  {
   "cell_type": "code",
   "execution_count": 55,
   "id": "23fae799",
   "metadata": {},
   "outputs": [
    {
     "data": {
      "text/plain": [
       "{'name': 'John', 'age': 25}"
      ]
     },
     "execution_count": 55,
     "metadata": {},
     "output_type": "execute_result"
    }
   ],
   "source": [
    "def get_key(dict1: dict, keys: list = [\"name\", \"age\"]) -> dict:\n",
    "    \n",
    "    return {i: dict1[i] for i in keys if i in dict1.keys()}\n",
    "\n",
    "get_key(client_dict)"
   ]
  },
  {
   "cell_type": "markdown",
   "id": "5b334dc8",
   "metadata": {},
   "source": [
    "### Задание 4"
   ]
  },
  {
   "cell_type": "markdown",
   "id": "1b7da8b4",
   "metadata": {},
   "source": [
    "4.1 Сгенерируйте случайные целые числа от 0 до 100 в количестве 5 штук с помощью модуля random\n",
    "Зафиксируйте псевдогенерацию, чтобы сгенерированные значения всегда были одинаковые\n",
    "Используйте list comprehensions"
   ]
  },
  {
   "cell_type": "code",
   "execution_count": 56,
   "id": "e8b300a8",
   "metadata": {},
   "outputs": [],
   "source": [
    "import random"
   ]
  },
  {
   "cell_type": "code",
   "execution_count": 64,
   "id": "ddade419",
   "metadata": {},
   "outputs": [],
   "source": [
    "random.seed(1)"
   ]
  },
  {
   "cell_type": "code",
   "execution_count": 59,
   "id": "ef987ed6",
   "metadata": {},
   "outputs": [],
   "source": [
    "list1 = [random.randint(0, 100) for i in range(5)]"
   ]
  },
  {
   "cell_type": "code",
   "execution_count": 66,
   "id": "44eaba2d",
   "metadata": {},
   "outputs": [
    {
     "data": {
      "text/plain": [
       "[79, 32, 94, 45, 88]"
      ]
     },
     "execution_count": 66,
     "metadata": {},
     "output_type": "execute_result"
    }
   ],
   "source": [
    "list1"
   ]
  },
  {
   "cell_type": "markdown",
   "id": "0892ce4c",
   "metadata": {},
   "source": [
    "<img src='https://avatars.mds.yandex.net/i?id=f6b63c6ab6f3bfcc499612663334788736caedc2-8307637-images-thumbs&n=13'>"
   ]
  },
  {
   "cell_type": "markdown",
   "id": "0a6b1737",
   "metadata": {},
   "source": [
    "<table>\n",
    "    <tr>\n",
    "        <td>1</td>\n",
    "        <td>2</td>\n",
    "    </tr>\n",
    "    <tr>\n",
    "        <td>1</td>\n",
    "        <td>2</td>\n",
    "    </tr>\n",
    "</table>"
   ]
  },
  {
   "cell_type": "markdown",
   "id": "3830955d",
   "metadata": {},
   "source": [
    "### Задание 6"
   ]
  },
  {
   "cell_type": "markdown",
   "id": "4e6c5415",
   "metadata": {},
   "source": [
    "Напишите функцию, которая может принимать любое количество трат пользователя и считать сумму и среднее.\n",
    "На вход поступают целочисленные значения в любом количестве\n",
    "На выходе словарь с ключами суммы трат и средней траты"
   ]
  },
  {
   "cell_type": "code",
   "execution_count": 72,
   "id": "bc20ac86",
   "metadata": {},
   "outputs": [],
   "source": [
    "def get_costs(*args):\n",
    "    sum_c = sum(args)\n",
    "    mean_c = sum_c / len(args)\n",
    "    return{\"sum\": sum_c,\n",
    "           \"mean\": mean_c}\n"
   ]
  },
  {
   "cell_type": "code",
   "execution_count": 73,
   "id": "3a68c0be",
   "metadata": {},
   "outputs": [
    {
     "data": {
      "text/plain": [
       "{'sum': 18, 'mean': 6.0}"
      ]
     },
     "execution_count": 73,
     "metadata": {},
     "output_type": "execute_result"
    }
   ],
   "source": [
    "get_costs(5, 6, 7)"
   ]
  },
  {
   "cell_type": "code",
   "execution_count": null,
   "id": "4038948b",
   "metadata": {},
   "outputs": [],
   "source": []
  },
  {
   "cell_type": "code",
   "execution_count": null,
   "id": "4886c1b7",
   "metadata": {},
   "outputs": [],
   "source": []
  },
  {
   "cell_type": "code",
   "execution_count": null,
   "id": "28161b1c",
   "metadata": {},
   "outputs": [],
   "source": []
  },
  {
   "cell_type": "code",
   "execution_count": null,
   "id": "f04dbca3",
   "metadata": {},
   "outputs": [],
   "source": []
  },
  {
   "cell_type": "code",
   "execution_count": null,
   "id": "ea7b6245",
   "metadata": {},
   "outputs": [],
   "source": []
  },
  {
   "cell_type": "code",
   "execution_count": null,
   "id": "f4eda91c",
   "metadata": {},
   "outputs": [],
   "source": []
  },
  {
   "cell_type": "code",
   "execution_count": null,
   "id": "f0b45eea",
   "metadata": {},
   "outputs": [],
   "source": []
  },
  {
   "cell_type": "code",
   "execution_count": null,
   "id": "cda23c10",
   "metadata": {},
   "outputs": [],
   "source": []
  },
  {
   "cell_type": "code",
   "execution_count": null,
   "id": "5259f64a",
   "metadata": {},
   "outputs": [],
   "source": []
  },
  {
   "cell_type": "code",
   "execution_count": null,
   "id": "26fcbe52",
   "metadata": {},
   "outputs": [],
   "source": []
  },
  {
   "cell_type": "code",
   "execution_count": null,
   "id": "ca9e6854",
   "metadata": {},
   "outputs": [],
   "source": []
  },
  {
   "cell_type": "code",
   "execution_count": null,
   "id": "f63c99ea",
   "metadata": {},
   "outputs": [],
   "source": []
  }
 ],
 "metadata": {
  "kernelspec": {
   "display_name": "Python 3 (ipykernel)",
   "language": "python",
   "name": "python3"
  },
  "language_info": {
   "codemirror_mode": {
    "name": "ipython",
    "version": 3
   },
   "file_extension": ".py",
   "mimetype": "text/x-python",
   "name": "python",
   "nbconvert_exporter": "python",
   "pygments_lexer": "ipython3",
   "version": "3.11.0"
  }
 },
 "nbformat": 4,
 "nbformat_minor": 5
}
