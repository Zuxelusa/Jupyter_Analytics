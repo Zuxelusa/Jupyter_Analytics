{
 "cells": [
  {
   "cell_type": "markdown",
   "id": "efc1d79c",
   "metadata": {},
   "source": [
    "# Домашнее задание. Семинар 1"
   ]
  },
  {
   "cell_type": "markdown",
   "id": "3d0508b4",
   "metadata": {},
   "source": [
    "## Задание 2.\n",
    "*На складе лежат разные фрукты в разном количестве.\n",
    "Нужно написать функцию, которая на вход принимает любое количество названий фруктов и их количество, а возвращает общее количество фруктов на складе*"
   ]
  },
  {
   "cell_type": "code",
   "execution_count": 113,
   "id": "37a54238",
   "metadata": {},
   "outputs": [
    {
     "data": {
      "text/plain": [
       "63"
      ]
     },
     "execution_count": 113,
     "metadata": {},
     "output_type": "execute_result"
    }
   ],
   "source": [
    "def fruits_calc(**kwargs) -> int:\n",
    "    return sum([n for fr, n in kwargs.items()])\n",
    "fruits_calc(banana=3, apple=20, mango=40)"
   ]
  },
  {
   "cell_type": "markdown",
   "id": "0f5cffe1",
   "metadata": {},
   "source": [
    "## Задание 3.\n",
    "*Дан список с затратами на рекламу. Но в данных есть ошибки, некоторые затраты имеют отрицательную величину. Удалите такие значения из списка и посчитайте суммарные затраты\n",
    "Используйте list comprehensions*"
   ]
  },
  {
   "cell_type": "code",
   "execution_count": 6,
   "id": "625b6ccf",
   "metadata": {},
   "outputs": [],
   "source": [
    "source = [100, 125, -90, 345, 655, -1, 0, 200]"
   ]
  },
  {
   "cell_type": "code",
   "execution_count": 7,
   "id": "88f99688",
   "metadata": {},
   "outputs": [
    {
     "name": "stdout",
     "output_type": "stream",
     "text": [
      "Нормализованый список расходов: [100, 125, 345, 655, 0, 200], с суммой 1425.\n"
     ]
    }
   ],
   "source": [
    "def normalize_lst(lst: list) -> tuple:\n",
    "    n_lst = [x for x in lst if x >= 0]\n",
    "    return n_lst, sum(n_lst)\n",
    "ans = normalize_lst(source)\n",
    "print(f\"Нормализованый список расходов: {ans[0]}, с суммой {ans[1]}.\")"
   ]
  },
  {
   "cell_type": "markdown",
   "id": "81d7f19f",
   "metadata": {},
   "source": [
    "## Задание 4.\n",
    "*Даны два списка.\n",
    "Дата покупки*"
   ]
  },
  {
   "cell_type": "code",
   "execution_count": 2,
   "id": "a1ce2185",
   "metadata": {},
   "outputs": [],
   "source": [
    "dates = ['2021-09-14', '2021-12-15', '2021-09-08', '2021-12-05', '2021-10-09', '2021-09-30', '2021-12-22', '2021-11-29', '2021-12-24', '2021-11-26', '2021-10-27', '2021-12-18', '2021-11-09', '2021-11-23', '2021-09-27', '2021-10-02', '2021-12-27', '2021-09-20', '2021-12-13', '2021-11-01', '2021-11-09', '2021-12-06', '2021-12-08', '2021-10-09', '2021-10-31', '2021-09-30', '2021-11-09', '2021-12-13', '2021-10-26', '2021-12-09']"
   ]
  },
  {
   "cell_type": "markdown",
   "id": "f0f35d4a",
   "metadata": {},
   "source": [
    "*Суммы покупок по датам*"
   ]
  },
  {
   "cell_type": "code",
   "execution_count": 3,
   "id": "bfa70ab8",
   "metadata": {},
   "outputs": [],
   "source": [
    "sums = [1270, 8413, 9028, 3703, 5739, 4095, 295, 4944, 5723, 3701, 4471, 651, 7037, 4274, 6275, 4988, 6930, 2971, 6592, 2004, 2822, 519, 3406, 2732, 5015, 2008, 316, 6333, 5700, 2887]"
   ]
  },
  {
   "cell_type": "markdown",
   "id": "974de284",
   "metadata": {},
   "source": [
    "### Подзадание 4.1. \n",
    "*Найдите, какая выручка у компании в ноябре.*"
   ]
  },
  {
   "cell_type": "code",
   "execution_count": 4,
   "id": "3de47d12",
   "metadata": {},
   "outputs": [
    {
     "data": {
      "text/plain": [
       "15239"
      ]
     },
     "execution_count": 4,
     "metadata": {},
     "output_type": "execute_result"
    }
   ],
   "source": [
    "# Создаем функцию, которая на входе получает исходные данные и номер месяца, \n",
    "# в результате выдается сумма выручки за указанный месяц.\n",
    "\n",
    "def revenue_by_month(d: list, s: list, m: int) -> int:\n",
    "    my_month = f\"0{m}\" if len(str(m)) == 1 else str(m)\n",
    "    my_dict = dict(zip(d, s))\n",
    "    month_dict = {x: my_dict.get(x) for x in my_dict if f\"-{my_month}-\" in x}\n",
    "    return sum(month_dict.values())\n",
    "\n",
    "revenue_by_month(dates, sums, 11)"
   ]
  },
  {
   "cell_type": "markdown",
   "id": "b9c90240",
   "metadata": {},
   "source": [
    "### Подзадание 4.2. \n",
    "*Найдите выручку компании в зависимости от месяца.*"
   ]
  },
  {
   "cell_type": "code",
   "execution_count": 213,
   "id": "ffc0b315",
   "metadata": {},
   "outputs": [
    {
     "data": {
      "text/plain": [
       "{8: 0, 9: 21552, 10: 22906, 11: 15239, 12: 38860}"
      ]
     },
     "execution_count": 213,
     "metadata": {},
     "output_type": "execute_result"
    }
   ],
   "source": [
    "# Создаем функцию обработчик, которая выдает словарь-отчет по суммарной выручке по месяцам используя функцию revenue_by_month()\n",
    "def pivot_summary(fr: int, to: int) -> dict:\n",
    "    pt = {}\n",
    "    for i in range(fr, to + 1):\n",
    "        pt[i] = revenue_by_month(dates, sums, i)\n",
    "    return pt\n",
    "pivot_summary(8, 12)\n",
    "    "
   ]
  },
  {
   "cell_type": "code",
   "execution_count": 217,
   "id": "e3602d62",
   "metadata": {},
   "outputs": [
    {
     "data": {
      "text/plain": [
       "{8: 0, 9: 21552, 10: 22906, 11: 15239, 12: 38860}"
      ]
     },
     "execution_count": 217,
     "metadata": {},
     "output_type": "execute_result"
    }
   ],
   "source": [
    "# Та же функция через dict comprehension\n",
    "def pivot_summary(fr: int, to: int) -> dict:\n",
    "    return {i: revenue_by_month(dates, sums, i) for i in range(fr, to + 1)}\n",
    "pivot_summary(8, 12)\n"
   ]
  }
 ],
 "metadata": {
  "kernelspec": {
   "display_name": "Python 3 (ipykernel)",
   "language": "python",
   "name": "python3"
  },
  "language_info": {
   "codemirror_mode": {
    "name": "ipython",
    "version": 3
   },
   "file_extension": ".py",
   "mimetype": "text/x-python",
   "name": "python",
   "nbconvert_exporter": "python",
   "pygments_lexer": "ipython3",
   "version": "3.11.0"
  }
 },
 "nbformat": 4,
 "nbformat_minor": 5
}
